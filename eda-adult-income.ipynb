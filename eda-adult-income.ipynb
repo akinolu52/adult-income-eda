{
 "cells": [
  {
   "metadata": {},
   "cell_type": "markdown",
   "source": [
    "## DATA EXPLORATION WITH PYTHON\n",
    "\n",
    "An exploratory analysis into adult income, checking out the various variables that might affect the income of a person"
   ],
   "id": "2600f97a143d4f4"
  },
  {
   "metadata": {
    "ExecuteTime": {
     "end_time": "2024-06-08T00:25:41.520986Z",
     "start_time": "2024-06-08T00:25:41.352597Z"
    }
   },
   "cell_type": "code",
   "source": [
    "# import package\n",
    "\n",
    "import warnings\n",
    "\n",
    "import numpy as np\n",
    "import pandas as pd\n",
    "import seaborn as sns\n",
    "from matplotlib import pyplot as plt\n",
    "from sklearn.preprocessing import StandardScaler\n",
    "\n",
    "warnings.filterwarnings('ignore')\n",
    "%matplotlib inline"
   ],
   "id": "4e813bcb4df54726",
   "execution_count": 1,
   "outputs": []
  },
  {
   "metadata": {
    "ExecuteTime": {
     "end_time": "2024-06-08T00:25:41.571531Z",
     "start_time": "2024-06-08T00:25:41.521578Z"
    }
   },
   "cell_type": "code",
   "source": [
    "# load the dataset\n",
    "df = pd.read_csv('adult_income.csv')\n",
    "\n",
    "df.shape"
   ],
   "id": "b2777017f6f7f9a9",
   "execution_count": 2,
   "outputs": []
  },
  {
   "metadata": {},
   "cell_type": "markdown",
   "source": "talk about the shape here",
   "id": "4be4d65a1c84d9fb"
  },
  {
   "metadata": {
    "ExecuteTime": {
     "end_time": "2024-06-08T00:25:41.581378Z",
     "start_time": "2024-06-08T00:25:41.572247Z"
    }
   },
   "cell_type": "code",
   "source": [
    "# explore the first 5 rows\n",
    "df.head()"
   ],
   "id": "bd59a65378506093",
   "execution_count": 3,
   "outputs": []
  },
  {
   "metadata": {
    "ExecuteTime": {
     "end_time": "2024-06-08T00:25:41.591984Z",
     "start_time": "2024-06-08T00:25:41.582140Z"
    }
   },
   "cell_type": "code",
   "source": "df[(df['income'] == '>50K') & (df['hours.per.week'] > 40)]",
   "id": "3d20d9e44398e77b",
   "execution_count": 4,
   "outputs": []
  },
  {
   "metadata": {},
   "cell_type": "markdown",
   "source": "### Renaming columns",
   "id": "7ad64f7a478c2995"
  },
  {
   "metadata": {
    "ExecuteTime": {
     "end_time": "2024-06-08T00:25:41.595692Z",
     "start_time": "2024-06-08T00:25:41.592605Z"
    }
   },
   "cell_type": "code",
   "source": [
    "df = df.rename(columns={\n",
    "    'fnlwgt': 'final_weight',\n",
    "    'workclass': 'work_class',\n",
    "    'education.num': 'education_num',\n",
    "    'marital.status': 'marital_status',\n",
    "    'capital.gain': 'capital_gain',\n",
    "    'capital.loss': 'capital_loss',\n",
    "    'hours.per.week': 'hours_per_week',\n",
    "    'native.country': 'native_country',\n",
    "})"
   ],
   "id": "d81fbcfcfbd61cdf",
   "execution_count": 5,
   "outputs": []
  },
  {
   "metadata": {
    "ExecuteTime": {
     "end_time": "2024-06-08T00:25:41.600484Z",
     "start_time": "2024-06-08T00:25:41.598341Z"
    }
   },
   "cell_type": "code",
   "source": [
    "# explore the dataset columns\n",
    "columns = df.columns\n",
    "\n",
    "columns"
   ],
   "id": "4b3e22a2d34d91e4",
   "execution_count": 6,
   "outputs": []
  },
  {
   "metadata": {
    "ExecuteTime": {
     "end_time": "2024-06-08T00:25:41.604589Z",
     "start_time": "2024-06-08T00:25:41.601130Z"
    }
   },
   "cell_type": "code",
   "source": "df['sex'].unique()",
   "id": "359905d4693026c6",
   "execution_count": 7,
   "outputs": []
  },
  {
   "metadata": {
    "ExecuteTime": {
     "end_time": "2024-06-08T00:25:41.609217Z",
     "start_time": "2024-06-08T00:25:41.605386Z"
    }
   },
   "cell_type": "code",
   "source": [
    "df['sex'] = (df['sex'] == 'Male').astype(int)\n",
    "\n",
    "df['sex'].unique()"
   ],
   "id": "d26a4d01201c2dd0",
   "execution_count": 8,
   "outputs": []
  },
  {
   "metadata": {
    "ExecuteTime": {
     "end_time": "2024-06-08T00:25:41.612787Z",
     "start_time": "2024-06-08T00:25:41.609978Z"
    }
   },
   "cell_type": "code",
   "source": "df['race'].unique()",
   "id": "acf3a18db7d29d3a",
   "execution_count": 9,
   "outputs": []
  },
  {
   "metadata": {
    "ExecuteTime": {
     "end_time": "2024-06-08T00:25:41.620745Z",
     "start_time": "2024-06-08T00:25:41.613449Z"
    }
   },
   "cell_type": "code",
   "source": [
    "df['race'] = df['race'].map({\n",
    "    'White': 0,\n",
    "    'Black': 1,\n",
    "    'Asian-Pac-Islander': 2,\n",
    "    'Other': 3,\n",
    "    'Amer-Indian-Eskimo': 4\n",
    "})\n",
    "\n",
    "df"
   ],
   "id": "5886ac0d4416043e",
   "execution_count": 10,
   "outputs": []
  },
  {
   "metadata": {},
   "cell_type": "markdown",
   "source": "### Exploring and Analyzing 'income' column",
   "id": "9357e1bcf261d1b8"
  },
  {
   "metadata": {
    "ExecuteTime": {
     "end_time": "2024-06-08T00:25:41.626616Z",
     "start_time": "2024-06-08T00:25:41.621642Z"
    }
   },
   "cell_type": "code",
   "source": [
    "#descriptive statistics summary\n",
    "df['income'].describe()"
   ],
   "id": "addf844eac6941d2",
   "execution_count": 11,
   "outputs": []
  },
  {
   "metadata": {
    "ExecuteTime": {
     "end_time": "2024-06-08T00:25:41.630456Z",
     "start_time": "2024-06-08T00:25:41.627322Z"
    }
   },
   "cell_type": "code",
   "source": "df['income'].value_counts()",
   "id": "6a4b6fcc9245d2e3",
   "execution_count": 12,
   "outputs": []
  },
  {
   "metadata": {
    "ExecuteTime": {
     "end_time": "2024-06-08T00:25:41.633463Z",
     "start_time": "2024-06-08T00:25:41.631140Z"
    }
   },
   "cell_type": "code",
   "source": "df['income'].head()",
   "id": "6b6def44ae8c119a",
   "execution_count": 13,
   "outputs": []
  },
  {
   "metadata": {
    "ExecuteTime": {
     "end_time": "2024-06-08T00:25:41.637948Z",
     "start_time": "2024-06-08T00:25:41.634248Z"
    }
   },
   "cell_type": "code",
   "source": [
    "df['income'] = (df['income'] == '>50K').astype(int)\n",
    "\n",
    "df['income'].head()"
   ],
   "id": "7d15c7d779714dc4",
   "execution_count": 14,
   "outputs": []
  },
  {
   "metadata": {
    "ExecuteTime": {
     "end_time": "2024-06-08T00:25:41.641077Z",
     "start_time": "2024-06-08T00:25:41.638628Z"
    }
   },
   "cell_type": "code",
   "source": "df['income'].value_counts()",
   "id": "feae3018f34be720",
   "execution_count": 15,
   "outputs": []
  },
  {
   "metadata": {
    "ExecuteTime": {
     "end_time": "2024-06-08T00:25:41.857796Z",
     "start_time": "2024-06-08T00:25:41.641758Z"
    }
   },
   "cell_type": "code",
   "source": [
    "# histogram\n",
    "sns.distplot(df['income']);"
   ],
   "id": "8044dd442b40ab89",
   "execution_count": 16,
   "outputs": []
  },
  {
   "metadata": {
    "ExecuteTime": {
     "end_time": "2024-06-08T00:25:41.868665Z",
     "start_time": "2024-06-08T00:25:41.859284Z"
    }
   },
   "cell_type": "code",
   "source": [
    "#skewness and kurtosis\n",
    "print(\"Skewness: %f\" % df['income'].skew())\n",
    "print(\"Kurtosis: %f\" % df['income'].kurt())"
   ],
   "id": "6743ee2ff67cf283",
   "execution_count": 17,
   "outputs": []
  },
  {
   "metadata": {},
   "cell_type": "markdown",
   "source": [
    "### Data Cleaning\n",
    "In our dataset, we can see that missing values are present in the form of \"?\".\n",
    "the columns: \"work_class\", \"occupation\" etc. a being affected"
   ],
   "id": "32bd67d2661ff346"
  },
  {
   "metadata": {
    "ExecuteTime": {
     "end_time": "2024-06-08T00:25:41.893373Z",
     "start_time": "2024-06-08T00:25:41.878856Z"
    }
   },
   "cell_type": "code",
   "source": [
    "def get_columns_with_null(frame: pd.DataFrame):\n",
    "    return frame.columns[frame.isnull().any(axis=0)]"
   ],
   "id": "77dd787d95e4e565",
   "execution_count": 18,
   "outputs": []
  },
  {
   "metadata": {
    "ExecuteTime": {
     "end_time": "2024-06-08T00:25:41.944657Z",
     "start_time": "2024-06-08T00:25:41.906903Z"
    }
   },
   "cell_type": "code",
   "source": [
    "df.replace('?', np.NAN, inplace=True)\n",
    "\n",
    "columns_with_null = get_columns_with_null(df)\n",
    "print(\"Columns with null values:\", columns_with_null)\n",
    "\n",
    "df.head()"
   ],
   "id": "3488390b24e93f0d",
   "execution_count": 19,
   "outputs": []
  },
  {
   "metadata": {
    "ExecuteTime": {
     "end_time": "2024-06-08T00:25:41.969789Z",
     "start_time": "2024-06-08T00:25:41.950041Z"
    }
   },
   "cell_type": "code",
   "source": "df.describe()",
   "id": "2b8c2657571de11d",
   "execution_count": 20,
   "outputs": []
  },
  {
   "metadata": {},
   "cell_type": "markdown",
   "source": "Data Replacement",
   "id": "b569d366a8cbc216"
  },
  {
   "metadata": {
    "ExecuteTime": {
     "end_time": "2024-06-08T00:25:41.986834Z",
     "start_time": "2024-06-08T00:25:41.978748Z"
    }
   },
   "cell_type": "code",
   "source": [
    "# replacing the empty values with the mode \n",
    "for col in columns_with_null:\n",
    "    df[col].fillna(df[col].mode()[0], inplace=True)"
   ],
   "id": "99e1afb98e8b82de",
   "execution_count": 21,
   "outputs": []
  },
  {
   "metadata": {
    "ExecuteTime": {
     "end_time": "2024-06-08T00:25:41.993415Z",
     "start_time": "2024-06-08T00:25:41.987498Z"
    }
   },
   "cell_type": "code",
   "source": [
    "# confirming that all data have been filled\n",
    "columns_with_null = get_columns_with_null(df)\n",
    "print(\"Columns with null values:\", columns_with_null)"
   ],
   "id": "512639eaf728d74f",
   "execution_count": 22,
   "outputs": []
  },
  {
   "metadata": {},
   "cell_type": "markdown",
   "source": "Explore other columns",
   "id": "e001216ece0ea36e"
  },
  {
   "metadata": {
    "ExecuteTime": {
     "end_time": "2024-06-08T00:25:42.017414Z",
     "start_time": "2024-06-08T00:25:41.994336Z"
    }
   },
   "cell_type": "code",
   "source": [
    "def get_unique_values_and_values_count(frame: pd.DataFrame) -> None:\n",
    "    # get all columns and exclude the 'income' column (last element)\n",
    "    columns = frame.columns.values[::-1]\n",
    "\n",
    "    for column in columns:\n",
    "        print(f'Column Name: {column}')\n",
    "        print('\\t', df[column].value_counts())\n",
    "        print('\\t', df[column].unique(), '\\n\\n')\n",
    "\n",
    "    print('Columns Count: ', len(columns))\n",
    "\n",
    "\n",
    "get_unique_values_and_values_count(df)"
   ],
   "id": "d8b9cb4412306d0d",
   "execution_count": 23,
   "outputs": []
  },
  {
   "metadata": {
    "ExecuteTime": {
     "end_time": "2024-06-08T00:25:50.752781Z",
     "start_time": "2024-06-08T00:25:42.018458Z"
    }
   },
   "cell_type": "code",
   "source": "sns.pairplot(df)",
   "id": "4e9e7b60edfeecd7",
   "execution_count": 24,
   "outputs": []
  },
  {
   "metadata": {},
   "cell_type": "markdown",
   "source": "### Relationship with numerical variables",
   "id": "ef85650b8d4d1783"
  },
  {
   "metadata": {},
   "cell_type": "code",
   "source": [
    "# get all the numerical columns in dataframe\n",
    "numeric_columns = df.select_dtypes(include='number').columns\n",
    "\n",
    "print(numeric_columns)"
   ],
   "id": "2e79f844158ed2e6",
   "execution_count": 26,
   "outputs": []
  },
  {
   "metadata": {},
   "cell_type": "code",
   "source": [
    "# a function to create a scatter plot with income against input column \n",
    "def numeric_plot_income_distribution(frame: pd.DataFrame, column: str):\n",
    "    # Set index if it's not already set\n",
    "    frame.reset_index(drop=True, inplace=True)\n",
    "\n",
    "    columns = [column, 'income']\n",
    "\n",
    "    scaler = StandardScaler()\n",
    "    frame_scaled = pd.DataFrame(scaler.fit_transform(frame[columns]), columns=columns)\n",
    "\n",
    "    plt.figure(figsize=(10, 6))\n",
    "    sns.scatterplot(data=frame_scaled, y=column, x='income')\n",
    "    sns.regplot(data=frame_scaled, y=column, x='income', scatter=False, color='red')\n"
   ],
   "id": "836c8ff9face9273",
   "execution_count": 27,
   "outputs": []
  },
  {
   "metadata": {
    "ExecuteTime": {
     "end_time": "2024-06-08T00:25:58.569046Z",
     "start_time": "2024-06-08T00:25:50.763522Z"
    }
   },
   "cell_type": "code",
   "source": [
    "for column in numeric_columns:\n",
    "    if column == 'income':\n",
    "        continue\n",
    "    numeric_plot_income_distribution(df, column)"
   ],
   "id": "624abf05f8829d51",
   "execution_count": 28,
   "outputs": []
  },
  {
   "metadata": {},
   "cell_type": "markdown",
   "source": "### Relationship with categorical features",
   "id": "cd6604e5a44c444c"
  },
  {
   "metadata": {
    "ExecuteTime": {
     "end_time": "2024-06-08T00:25:58.572297Z",
     "start_time": "2024-06-08T00:25:58.569742Z"
    }
   },
   "cell_type": "code",
   "source": [
    "# get categorical columns\n",
    "columns_set = set(columns)\n",
    "numeric_columns_set = set(numeric_columns)\n",
    "\n",
    "categorical_columns = list(columns_set - numeric_columns_set)\n",
    "categorical_columns"
   ],
   "id": "16c173988e87f289",
   "execution_count": 29,
   "outputs": []
  },
  {
   "metadata": {
    "ExecuteTime": {
     "end_time": "2024-06-08T00:25:58.580919Z",
     "start_time": "2024-06-08T00:25:58.572943Z"
    }
   },
   "cell_type": "code",
   "source": [
    "from sklearn.compose import ColumnTransformer\n",
    "from sklearn.preprocessing import OneHotEncoder\n",
    "from sklearn.pipeline import Pipeline\n",
    "\n",
    "\n",
    "# a function to create a scatter plot with income against input column \n",
    "def categorical_plot_income_distribution(frame: pd.DataFrame, column: str):\n",
    "    numeric_column = 'income'\n",
    "    categorical_column = column\n",
    "\n",
    "    # Define preprocessing steps for numeric and categorical columns\n",
    "    numeric_transformer = Pipeline(steps=[\n",
    "        ('scaler', StandardScaler())\n",
    "    ])\n",
    "\n",
    "    categorical_transformer = Pipeline(steps=[\n",
    "        ('onehot', OneHotEncoder(sparse=False))  # Setting sparse=False to get dense array\n",
    "    ])\n",
    "\n",
    "    # Combine preprocessing steps for both types of columns\n",
    "    preprocessor = ColumnTransformer(\n",
    "        transformers=[\n",
    "            ('num', numeric_transformer, [numeric_column]),\n",
    "            ('cat', categorical_transformer, [categorical_column])\n",
    "        ])\n",
    "\n",
    "    transformed_data = preprocessor.fit_transform(df[[numeric_column, categorical_column]])\n",
    "\n",
    "    # Check dimensions and column names\n",
    "    print(\"Transformed Data Shape:\", transformed_data.shape)\n",
    "    numeric_scaled_column_name = f\"{numeric_column}_scaled\"\n",
    "    categorical_encoded_columns = preprocessor.transformers_[1][1]['onehot'].get_feature_names_out([categorical_column])\n",
    "    column_names = [numeric_scaled_column_name] + list(categorical_encoded_columns)\n",
    "    print(\"Column Names:\", column_names)\n",
    "\n",
    "    # Create DataFrame from transformed data\n",
    "    transformed_df = pd.DataFrame(transformed_data, columns=column_names)\n",
    "\n",
    "    # Plot box plot\n",
    "    plt.figure(figsize=(10, 6))\n",
    "    sns.boxplot(data=transformed_df)\n",
    "    plt.xlabel(\"Features\")\n",
    "    plt.ylabel(\"Transformed Values\")\n",
    "    plt.title(\"Box Plot of Transformed Data\")\n",
    "    plt.show()\n"
   ],
   "id": "33cca5f2ddb4e7aa",
   "execution_count": 30,
   "outputs": []
  },
  {
   "metadata": {
    "ExecuteTime": {
     "end_time": "2024-06-08T00:25:59.787014Z",
     "start_time": "2024-06-08T00:25:58.581542Z"
    }
   },
   "cell_type": "code",
   "source": [
    "for column in categorical_columns:\n",
    "    categorical_plot_income_distribution(df, column)"
   ],
   "id": "7124b18f057f0eb4",
   "execution_count": 31,
   "outputs": []
  },
  {
   "metadata": {},
   "cell_type": "markdown",
   "source": "Age Distribution",
   "id": "21b7574dd1170229"
  },
  {
   "metadata": {
    "ExecuteTime": {
     "end_time": "2024-06-08T00:25:59.878445Z",
     "start_time": "2024-06-08T00:25:59.788024Z"
    }
   },
   "cell_type": "code",
   "source": [
    "df['age'].hist()\n",
    "plt.show"
   ],
   "id": "b57b24c297708ab",
   "execution_count": 32,
   "outputs": []
  },
  {
   "metadata": {},
   "cell_type": "markdown",
   "source": [
    "By observation age attribute is right-skewed and not symmetric\n",
    "min and max age in btw 17 to 90."
   ],
   "id": "3e4f71359c4b14a9"
  },
  {
   "metadata": {},
   "cell_type": "markdown",
   "source": "final wieght Distribution:",
   "id": "283769995a8a8bb9"
  },
  {
   "metadata": {
    "ExecuteTime": {
     "end_time": "2024-06-08T00:25:59.961757Z",
     "start_time": "2024-06-08T00:25:59.884123Z"
    }
   },
   "cell_type": "code",
   "source": [
    "df['final_weight'].hist()\n",
    "plt.show()"
   ],
   "id": "35c6cf973dcc771f",
   "execution_count": 33,
   "outputs": []
  },
  {
   "metadata": {},
   "cell_type": "markdown",
   "source": "It seems like Rightly skewed.",
   "id": "93676922cfe52f2b"
  },
  {
   "metadata": {},
   "cell_type": "markdown",
   "source": "capital-gain Distribution",
   "id": "89e45a9cdbf5e27c"
  },
  {
   "metadata": {
    "ExecuteTime": {
     "end_time": "2024-06-08T00:26:00.039267Z",
     "start_time": "2024-06-08T00:25:59.962308Z"
    }
   },
   "cell_type": "code",
   "source": [
    "df['capital_gain'].hist()\n",
    "plt.show()"
   ],
   "id": "8d34637b25c470b5",
   "execution_count": 34,
   "outputs": []
  },
  {
   "metadata": {},
   "cell_type": "markdown",
   "source": "capital gain shows that either a person has gain or no gain of very large amount(10k or 99k).",
   "id": "ce43163fe4507072"
  },
  {
   "metadata": {},
   "cell_type": "markdown",
   "source": "capital loss distribution",
   "id": "6e91017df09ac1fc"
  },
  {
   "metadata": {
    "ExecuteTime": {
     "end_time": "2024-06-08T00:26:00.109564Z",
     "start_time": "2024-06-08T00:26:00.040387Z"
    }
   },
   "cell_type": "code",
   "source": [
    "df['capital_loss'].hist()\n",
    "plt.show()"
   ],
   "id": "11b9bd092f5b0b66",
   "execution_count": 35,
   "outputs": []
  },
  {
   "metadata": {},
   "cell_type": "markdown",
   "source": [
    "This histogram shows that most of the \"capital-loss\" values are centered on 0 and only few are non zero(2282).\n",
    "This attribute is similar to the capital-gain i.e. most of the values are centered on 0(nearly 43000 of them)"
   ],
   "id": "a45d980c88188e30"
  },
  {
   "metadata": {
    "ExecuteTime": {
     "end_time": "2024-06-08T00:26:00.239335Z",
     "start_time": "2024-06-08T00:26:00.110270Z"
    }
   },
   "cell_type": "code",
   "source": [
    "sns.relplot(x='capital_gain', y='capital_loss', data=df)\n",
    "plt.xlabel('capital gain')\n",
    "plt.ylabel('capital loss')\n",
    "plt.show()"
   ],
   "id": "2989e036c1354bcc",
   "execution_count": 36,
   "outputs": []
  },
  {
   "metadata": {},
   "cell_type": "markdown",
   "source": [
    "1.both capital-gain and capital-loss can be zero(0)\n",
    "2.if capital_gain is Zero then capital_loss being high or above zero.\n",
    "3.if capital_loss is Zero then capital_gain being high or above zero."
   ],
   "id": "4d11ed3e02e9eb99"
  },
  {
   "metadata": {
    "ExecuteTime": {
     "end_time": "2024-06-08T00:26:00.244798Z",
     "start_time": "2024-06-08T00:26:00.240251Z"
    }
   },
   "cell_type": "code",
   "source": "df.head()\n",
   "id": "ab4d62026a0598c2",
   "execution_count": 37,
   "outputs": []
  },
  {
   "metadata": {},
   "cell_type": "markdown",
   "source": "Hours per week distribution",
   "id": "def94a439e86b59f"
  },
  {
   "metadata": {
    "ExecuteTime": {
     "end_time": "2024-06-08T00:26:00.315474Z",
     "start_time": "2024-06-08T00:26:00.245454Z"
    }
   },
   "cell_type": "code",
   "source": [
    "df['hours_per_week'].hist()\n",
    "plt.show()"
   ],
   "id": "3e9661fa2f33ed3e",
   "execution_count": 38,
   "outputs": []
  },
  {
   "metadata": {},
   "cell_type": "markdown",
   "source": [
    "In this data the hours per week attribute varies within the range of 1 to 99.\n",
    "By observation,30-40 hrs people work per week,around 27000 people.\n",
    "There are also few people who work 80-100 hours per week and some less than 20 which is unusual."
   ],
   "id": "da34dc389bd78918"
  },
  {
   "metadata": {
    "ExecuteTime": {
     "end_time": "2024-06-08T00:26:00.318888Z",
     "start_time": "2024-06-08T00:26:00.316237Z"
    }
   },
   "cell_type": "code",
   "source": [
    "from typing import Optional\n",
    "\n",
    "\n",
    "def explore_column_distribution(frame: pd.DataFrame, column: str, total_records: float,\n",
    "                                hue: Optional[str] = None) -> None:\n",
    "    plt.figure(figsize=(20, 5))\n",
    "\n",
    "    if hue is None:\n",
    "        ax = sns.countplot(x=column, data=frame)\n",
    "    else:\n",
    "        ax = sns.countplot(x=column, data=frame, hue=hue)\n",
    "\n",
    "    for bar in ax.patches:\n",
    "        bar_height = bar.get_height()\n",
    "        ax.text(bar.get_x() + bar.get_width() / 2.,\n",
    "                bar_height + 3,\n",
    "                '{:1.2f}%'.format((bar_height / total_records) * 100),\n",
    "                ha=\"center\")\n",
    "\n",
    "    plt.show()"
   ],
   "id": "32ecee934f076370",
   "execution_count": 39,
   "outputs": []
  },
  {
   "metadata": {},
   "cell_type": "markdown",
   "source": "work_class distribution",
   "id": "280254b0e74dbb5a"
  },
  {
   "metadata": {
    "ExecuteTime": {
     "end_time": "2024-06-08T00:26:00.407654Z",
     "start_time": "2024-06-08T00:26:00.319606Z"
    }
   },
   "cell_type": "code",
   "source": "explore_column_distribution(df, column='work_class', total_records=float(len(df['income'])))",
   "id": "58ae318c82ef54cc",
   "execution_count": 40,
   "outputs": []
  },
  {
   "metadata": {},
   "cell_type": "markdown",
   "source": [
    "most of them belong to private workclass that is around 75%.\n",
    "without-play and never-play workclass has min count"
   ],
   "id": "d5a04e569ff3ec97"
  },
  {
   "metadata": {},
   "cell_type": "markdown",
   "source": "Educational distribution",
   "id": "c0603036cc5bcf11"
  },
  {
   "metadata": {
    "ExecuteTime": {
     "end_time": "2024-06-08T00:26:00.583411Z",
     "start_time": "2024-06-08T00:26:00.408956Z"
    }
   },
   "cell_type": "code",
   "source": "explore_column_distribution(df, column='education', total_records=float(len(df['income'])))",
   "id": "736cdf3e80c1173d",
   "execution_count": 41,
   "outputs": []
  },
  {
   "metadata": {},
   "cell_type": "markdown",
   "source": [
    "Hs-grad has 32.32% of all the education attribute.\n",
    "pre-school has min."
   ],
   "id": "f27ec5e147c5f30f"
  },
  {
   "metadata": {},
   "cell_type": "markdown",
   "source": "Marital status distribution",
   "id": "86e7fbb4d3518faa"
  },
  {
   "metadata": {
    "ExecuteTime": {
     "end_time": "2024-06-08T00:26:00.673441Z",
     "start_time": "2024-06-08T00:26:00.584290Z"
    }
   },
   "cell_type": "code",
   "source": "explore_column_distribution(df, column='marital_status', total_records=float(len(df)))",
   "id": "ce4a79c30692e0e",
   "execution_count": 42,
   "outputs": []
  },
  {
   "metadata": {},
   "cell_type": "markdown",
   "source": [
    "Married-civ-spouse has maximum number of samples.\n",
    "Married-AF-spouse has minimum number of obs."
   ],
   "id": "33927e35fca32470"
  },
  {
   "metadata": {},
   "cell_type": "markdown",
   "source": "Occupational distribution",
   "id": "d07ad993cd49f2c1"
  },
  {
   "metadata": {
    "ExecuteTime": {
     "end_time": "2024-06-08T00:26:00.808374Z",
     "start_time": "2024-06-08T00:26:00.674056Z"
    }
   },
   "cell_type": "code",
   "source": "explore_column_distribution(df, column='occupation', total_records=float(len(df)))",
   "id": "6794aeb85cf9282a",
   "execution_count": 43,
   "outputs": []
  },
  {
   "metadata": {},
   "cell_type": "markdown",
   "source": [
    "Prof-specialty has the maximum count.\n",
    "Armed-Forces has minimum samples in the occupation attribute."
   ],
   "id": "718fa4c3cd504dc1"
  },
  {
   "metadata": {},
   "cell_type": "markdown",
   "source": "Relationship Distribution",
   "id": "bfdc02f26077a146"
  },
  {
   "metadata": {
    "ExecuteTime": {
     "end_time": "2024-06-08T00:26:00.912491Z",
     "start_time": "2024-06-08T00:26:00.809276Z"
    }
   },
   "cell_type": "code",
   "source": "explore_column_distribution(df, column='relationship', total_records=float(len(df)))",
   "id": "923ba0540f1e5d7a",
   "execution_count": 44,
   "outputs": []
  },
  {
   "metadata": {},
   "cell_type": "markdown",
   "source": "Husband has maximum percentage among all.",
   "id": "78d0819b33632ab3"
  },
  {
   "metadata": {},
   "cell_type": "markdown",
   "source": "Race distribution",
   "id": "d12bd9f14d5aefd1"
  },
  {
   "metadata": {
    "ExecuteTime": {
     "end_time": "2024-06-08T00:26:00.978799Z",
     "start_time": "2024-06-08T00:26:00.913130Z"
    }
   },
   "cell_type": "code",
   "source": "explore_column_distribution(df, column='race', total_records=float(len(df)))",
   "id": "c2e92338ce05b1c0",
   "execution_count": 45,
   "outputs": []
  },
  {
   "metadata": {},
   "cell_type": "markdown",
   "source": [
    "white is maximun among all about 85.50%.\n",
    "black is second maximun."
   ],
   "id": "46fa699cae5779f6"
  },
  {
   "metadata": {},
   "cell_type": "markdown",
   "source": "Sex(gender) distribution",
   "id": "50f9f596092ce810"
  },
  {
   "metadata": {
    "ExecuteTime": {
     "end_time": "2024-06-08T00:26:01.035681Z",
     "start_time": "2024-06-08T00:26:00.979496Z"
    }
   },
   "cell_type": "code",
   "source": "explore_column_distribution(df, column='sex', total_records=float(len(df)))",
   "id": "c0d6fe6235ac1137",
   "execution_count": 46,
   "outputs": []
  },
  {
   "metadata": {},
   "cell_type": "markdown",
   "source": [
    "there are 2 unique categories in gender.\n",
    "frequency of male is higher than female."
   ],
   "id": "c05021f9807f3c5c"
  },
  {
   "metadata": {},
   "cell_type": "markdown",
   "source": "Income Distribution",
   "id": "399304867edbb75a"
  },
  {
   "metadata": {
    "ExecuteTime": {
     "end_time": "2024-06-08T00:26:01.092600Z",
     "start_time": "2024-06-08T00:26:01.036635Z"
    }
   },
   "cell_type": "code",
   "source": "explore_column_distribution(df, column='income', total_records=float(len(df)))",
   "id": "b4cffc875724243a",
   "execution_count": 47,
   "outputs": []
  },
  {
   "metadata": {},
   "cell_type": "markdown",
   "source": [
    "In income there is 2 group, \n",
    "group1 = 1(who earns more than 50k) 24.08% belong to income \n",
    "group2 = 0(who earns less than 50k) 75.92% belong to income"
   ],
   "id": "7a0149e267c809c3"
  },
  {
   "metadata": {},
   "cell_type": "markdown",
   "source": "Exploring other columns with target column (bi-variate analysis)",
   "id": "40367e6bc8309d3d"
  },
  {
   "metadata": {
    "ExecuteTime": {
     "end_time": "2024-06-08T00:26:01.096057Z",
     "start_time": "2024-06-08T00:26:01.093335Z"
    }
   },
   "cell_type": "code",
   "source": [
    "def bi_variate_box_plot_exploration(frame: pd.DataFrame, x: str, y: str) -> None:\n",
    "    title = f'{x.title()} vs {y.title()}'\n",
    "    plt.figure(figsize=(20, 8))\n",
    "    sns.boxplot(x=x, y=y, data=frame).set_title(title)\n",
    "    plt.show()\n",
    "\n",
    "\n",
    "def bi_variate_count_plot_exploration(frame: pd.DataFrame, x: str, y: str) -> None:\n",
    "    title = f'{x.title()} vs {y.title()}'\n",
    "    plt.figure(figsize=(20, 7))\n",
    "    sns.countplot(x=x, hue=y, data=frame).set_title(title)\n",
    "    plt.show()"
   ],
   "id": "a004251bfbc54468",
   "execution_count": 48,
   "outputs": []
  },
  {
   "metadata": {},
   "cell_type": "markdown",
   "source": "Age vs Income",
   "id": "3d2dfde027f8df60"
  },
  {
   "metadata": {
    "ExecuteTime": {
     "end_time": "2024-06-08T00:26:01.187423Z",
     "start_time": "2024-06-08T00:26:01.096667Z"
    }
   },
   "cell_type": "code",
   "source": "bi_variate_box_plot_exploration(frame=df, x='income', y='age')",
   "id": "49eb2cb62217a67c",
   "execution_count": 49,
   "outputs": []
  },
  {
   "metadata": {},
   "cell_type": "markdown",
   "source": "Income group(<=50k) has lower median \"age\"(34 year) than the Income group(>50k) which has median \"age\"(42 year).",
   "id": "23cb984ded0b7aaf"
  },
  {
   "metadata": {},
   "cell_type": "markdown",
   "source": "Work_class vs Income",
   "id": "6e7c033e2c549d36"
  },
  {
   "metadata": {
    "ExecuteTime": {
     "end_time": "2024-06-08T00:26:01.371736Z",
     "start_time": "2024-06-08T00:26:01.187998Z"
    }
   },
   "cell_type": "code",
   "source": "bi_variate_count_plot_exploration(frame=df, x='work_class', y='income')",
   "id": "9a54bc4065fef4a5",
   "execution_count": 50,
   "outputs": []
  },
  {
   "metadata": {},
   "cell_type": "markdown",
   "source": [
    "The data seems to mainly consist private employees.\n",
    "In All the workclasses number of people earning less then 50k are more then those earning 50k."
   ],
   "id": "54c3f09dc0a7ae16"
  },
  {
   "metadata": {},
   "cell_type": "markdown",
   "source": "Capital gain vs Income",
   "id": "17ac1064b9cdc6c5"
  },
  {
   "metadata": {
    "ExecuteTime": {
     "end_time": "2024-06-08T00:26:01.471090Z",
     "start_time": "2024-06-08T00:26:01.373426Z"
    }
   },
   "cell_type": "code",
   "source": "bi_variate_box_plot_exploration(frame=df, x='income', y='capital_gain')",
   "id": "77b26d03260fd48",
   "execution_count": 51,
   "outputs": []
  },
  {
   "metadata": {},
   "cell_type": "markdown",
   "source": "Most of the capital gains value is accumulated at 0 for both the income group .",
   "id": "cc6f85fa78707d28"
  },
  {
   "metadata": {},
   "cell_type": "markdown",
   "source": "Capital loss vs Income",
   "id": "65903defff232c8d"
  },
  {
   "metadata": {
    "ExecuteTime": {
     "end_time": "2024-06-08T00:26:01.715629Z",
     "start_time": "2024-06-08T00:26:01.481288Z"
    }
   },
   "cell_type": "code",
   "source": "bi_variate_box_plot_exploration(frame=df, x='income', y='capital_loss')",
   "id": "eea43deaaded0756",
   "execution_count": 52,
   "outputs": []
  },
  {
   "metadata": {
    "ExecuteTime": {
     "end_time": "2024-06-08T00:26:01.847046Z",
     "start_time": "2024-06-08T00:26:01.718321Z"
    }
   },
   "cell_type": "code",
   "source": "bi_variate_count_plot_exploration(frame=df, x='relationship', y='income')",
   "id": "526f629a879b5642",
   "execution_count": 53,
   "outputs": []
  },
  {
   "metadata": {},
   "cell_type": "markdown",
   "source": "Mostly a person with relation as husband in a family has most count of people with more than 50k income",
   "id": "3b6be338e40ec4e0"
  },
  {
   "metadata": {
    "ExecuteTime": {
     "end_time": "2024-06-08T00:26:02.228601Z",
     "start_time": "2024-06-08T00:26:01.847972Z"
    }
   },
   "cell_type": "code",
   "source": "sns.catplot(y=\"race\", hue=\"income\", kind=\"count\", col=\"sex\", data=df);",
   "id": "caee23efa490dc89",
   "execution_count": 54,
   "outputs": []
  },
  {
   "metadata": {},
   "cell_type": "markdown",
   "source": "It is clear people with Gender male and race as white has the most people with income more than 50k.",
   "id": "cd0eea97eccf1d7f"
  },
  {
   "metadata": {
    "ExecuteTime": {
     "end_time": "2024-06-08T00:26:02.339555Z",
     "start_time": "2024-06-08T00:26:02.229346Z"
    }
   },
   "cell_type": "code",
   "source": "explore_column_distribution(df, column='work_class', hue='income', total_records=float(len(df['income'])))",
   "id": "f2386e482cb22904",
   "execution_count": 55,
   "outputs": []
  },
  {
   "metadata": {
    "ExecuteTime": {
     "end_time": "2024-06-08T00:26:02.571439Z",
     "start_time": "2024-06-08T00:26:02.340363Z"
    }
   },
   "cell_type": "code",
   "source": "sns.catplot(y=\"education\", hue=\"income\", kind=\"count\", palette=\"pastel\", edgecolor=\".6\", data=df);",
   "id": "3b7a080f13b8ef01",
   "execution_count": 56,
   "outputs": []
  },
  {
   "metadata": {},
   "cell_type": "markdown",
   "source": "This data mostly consist of people who has education as hs-grad",
   "id": "bd3b3183559dc443"
  },
  {
   "metadata": {
    "ExecuteTime": {
     "end_time": "2024-06-08T00:26:02.856728Z",
     "start_time": "2024-06-08T00:26:02.572177Z"
    }
   },
   "cell_type": "code",
   "source": "sns.catplot(y='marital_status', hue='sex', col='income', data=df, kind='count', height=4, aspect=.7)",
   "id": "4f83d8a4a433f215",
   "execution_count": 57,
   "outputs": []
  },
  {
   "metadata": {},
   "cell_type": "markdown",
   "source": "The people with marital status as Married-civ-spouse has the highest people with income more then 50k.",
   "id": "cc799eac8bbe2313"
  },
  {
   "metadata": {
    "ExecuteTime": {
     "end_time": "2024-06-08T00:26:03.014924Z",
     "start_time": "2024-06-08T00:26:02.857669Z"
    }
   },
   "cell_type": "code",
   "source": "bi_variate_count_plot_exploration(frame=df, y='income', x='occupation')",
   "id": "dafb34f947c1baa1",
   "execution_count": 58,
   "outputs": []
  },
  {
   "metadata": {
    "ExecuteTime": {
     "end_time": "2024-06-08T00:26:03.352726Z",
     "start_time": "2024-06-08T00:26:03.015629Z"
    }
   },
   "cell_type": "code",
   "source": "bi_variate_count_plot_exploration(frame=df, y='income', x='relationship')\n",
   "id": "aab5fc059c476a38",
   "execution_count": 59,
   "outputs": []
  },
  {
   "metadata": {
    "ExecuteTime": {
     "end_time": "2024-06-08T00:26:03.655856Z",
     "start_time": "2024-06-08T00:26:03.353413Z"
    }
   },
   "cell_type": "code",
   "source": [
    "plt.figure(figsize=(20, 7))\n",
    "sns.catplot(y=\"race\", hue=\"income\", kind=\"count\", col=\"sex\", data=df);"
   ],
   "id": "994b77067d0ae501",
   "execution_count": 60,
   "outputs": []
  },
  {
   "metadata": {
    "ExecuteTime": {
     "end_time": "2024-06-08T00:26:03.666703Z",
     "start_time": "2024-06-08T00:26:03.656722Z"
    }
   },
   "cell_type": "code",
   "source": [
    "correlation_matrix = df.corr(numeric_only=True)\n",
    "correlation_matrix"
   ],
   "id": "5f9221b7a65e53c9",
   "execution_count": 61,
   "outputs": []
  },
  {
   "metadata": {
    "ExecuteTime": {
     "end_time": "2024-06-08T00:26:03.670901Z",
     "start_time": "2024-06-08T00:26:03.667401Z"
    }
   },
   "cell_type": "code",
   "source": "correlation_matrix[[\"income\"]].sort_values('income', ascending=False)",
   "id": "ddaaae2cc731df81",
   "execution_count": 62,
   "outputs": []
  },
  {
   "metadata": {
    "ExecuteTime": {
     "end_time": "2024-06-08T00:26:03.673837Z",
     "start_time": "2024-06-08T00:26:03.671553Z"
    }
   },
   "cell_type": "code",
   "source": "columns",
   "id": "9c0721a661b41d09",
   "execution_count": 63,
   "outputs": []
  }
 ],
 "metadata": {
  "kernelspec": {
   "display_name": "Python 3",
   "language": "python",
   "name": "python3"
  },
  "language_info": {
   "codemirror_mode": {
    "name": "ipython",
    "version": 2
   },
   "file_extension": ".py",
   "mimetype": "text/x-python",
   "name": "python",
   "nbconvert_exporter": "python",
   "pygments_lexer": "ipython2",
   "version": "2.7.6"
  }
 },
 "nbformat": 4,
 "nbformat_minor": 5
}
